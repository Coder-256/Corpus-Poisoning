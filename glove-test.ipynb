{
 "cells": [
  {
   "cell_type": "code",
   "execution_count": null,
   "metadata": {},
   "outputs": [],
   "source": [
    "import glob\n",
    "import bz2"
   ]
  },
  {
   "cell_type": "code",
   "execution_count": null,
   "metadata": {},
   "outputs": [],
   "source": [
    "paths = glob.glob(\"enwiki-cleaned/*/wiki_*.bz2\", recursive=True)\n",
    "with open(\"enwiki-cleaned.txt\", \"a\") as output:\n",
    "    for path in paths:\n",
    "        with bz2.open(path, \"rt\") as bzinput:\n",
    "            text = bzinput.read()\n",
    "            output.write(text)"
   ]
  }
 ],
 "metadata": {
  "language_info": {
   "name": "python"
  },
  "orig_nbformat": 4
 },
 "nbformat": 4,
 "nbformat_minor": 2
}
